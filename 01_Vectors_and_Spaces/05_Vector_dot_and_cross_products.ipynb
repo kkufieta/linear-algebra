{
 "cells": [
  {
   "cell_type": "markdown",
   "metadata": {},
   "source": [
    "# Vector dot and cross products\n",
    "Vector operations we've defined so far:\n",
    "\n",
    "### Addition\n",
    "$$\\begin{bmatrix} a_1 \\\\ a_2 \\\\ \\vdots \\\\ a_n \\end{bmatrix} +\n",
    "\\begin{bmatrix} b_1 \\\\ b_2 \\\\ \\vdots \\\\ b_n \\end{bmatrix} =\n",
    "\\begin{bmatrix} a_1 + b_1 \\\\ a_2 + b_2 \\\\ \\vdots \\\\ a_n + b_n \\end{bmatrix} \n",
    "$$\n",
    "\n",
    "### Scalar Multiplication\n",
    "Scale the vector up or down\n",
    "$$c \\cdot \\begin{bmatrix} a_1 \\\\ a_2 \\\\ \\vdots \\\\ a_n \\end{bmatrix} =\n",
    "\\begin{bmatrix} c a_1 \\\\ c a_2 \\\\ \\vdots \\\\ c a_n \\end{bmatrix}\n",
    "$$\n",
    "\n",
    "### Multiplying two vectors\n",
    "There are two ways to multiply two vectors. One of them is the dot product."
   ]
  },
  {
   "cell_type": "markdown",
   "metadata": {},
   "source": [
    "## Vector dot product and vector length\n",
    "Dot product: $\\vec{a} \\cdot \\vec{b}$, results in a scalar\n",
    "\n",
    "$$\\begin{bmatrix} a_1 \\\\ a_2 \\\\ \\vdots \\\\ a_n \\end{bmatrix} +\n",
    "\\begin{bmatrix} b_1 \\\\ b_2 \\\\ \\vdots \\\\ b_n \\end{bmatrix} =\n",
    "a_1 b_1 + a_2 b_2 + a_3 b_3 + \\cdots + a_n b_n$$\n",
    "\n",
    "\n",
    "### What is the relationship between the length of a vector and the dot product?\n",
    "Length / Magnitude of a vector:\n",
    "$$||\\vec{a}|| = \\sqrt{a_1^2 + a_2^2 + \\cdots + a_n^2}$$\n",
    "\n",
    "$$||\\vec{a}||^2 = \\vec{a}\\cdot \\vec{a}$$"
   ]
  },
  {
   "cell_type": "markdown",
   "metadata": {},
   "source": [
    "## Proving vector dot product properties\n",
    "### Proof that the dot product is commutative\n",
    "Proof that: $\\vec{v} \\cdot \\vec{w} = \\vec{w} \\cdot \\vec{v}$\n",
    "\n",
    "Given:\n",
    "$$ \\vec{v} = \\begin{bmatrix} v_1 \\\\ v_2 \\\\ \\vdots \\\\ v_n \\end{bmatrix}, \\; \\vec{w} = \\begin{bmatrix} w_1 \\\\ w_2 \\\\ \\vdots \\\\ w_n \\end{bmatrix}$$\n",
    "\n",
    "$$ \\vec{v} \\cdot \\vec{w} = v_1 w_1 + v_2 w_2 + \\cdots + v_n w_n$$\n",
    "\n",
    "$$ \\vec{w} \\cdot \\vec{v} = w_1 v_1 + w_2 v_2 + \\cdots + w_n v_n$$\n",
    "\n",
    "Commutative property: $ v_1 w_1 = w_1 v_1$\n",
    "\n",
    "This proves that the dot product is commutative.\n",
    "\n",
    "### Proof that the dot product exhibits the distributive property\n",
    "Proof that: $(\\vec{v} +\\vec{w})  \\cdot \\vec{x} = (\\vec{v} \\cdot \\vec{x} + \\vec{w} \\cdot \\vec{x})$\n",
    "\n",
    "$$ \\begin{equation} \\begin{split}\n",
    "(\\vec{v} +\\vec{w})  \\cdot \\vec{x} \n",
    "&= \\begin{bmatrix} v_1 + w_1 \\\\ v_2 + w_2 \\\\ \\vdots \\\\ v_n + w_n \\end{bmatrix} \\cdot \\begin{bmatrix} x_1 \\\\ x_2 \\\\ \\vdots \\\\ x_n \\end{bmatrix} \\\\\n",
    "&= (v_1 + w_1)x_1 + (v_2 + w_2)x_2 + \\cdots + (v_n + w_n)x_n \\\\\n",
    "&= v_1 x_1 + w_1 x_1 + v_2 x_2 + w_2 x_2 + \\cdots + v_n x_n + w_n x_n \\\\\n",
    "&= (\\vec{v} \\cdot \\vec{x} + \\vec{w} \\cdot \\vec{x}) \\\\\n",
    "\\end{split} \\end{equation}\n",
    "$$\n",
    "\n",
    "### Proof that the dot product exhibits the associative property\n",
    "Proof that: $(c \\vec{v}) \\cdot \\vec{w} = c(\\vec{v} \\cdot \\vec{w})$\n",
    "\n",
    "$$ \\begin{equation} \\begin{split}\n",
    "\\begin{bmatrix} cv_1 \\\\ cv_2 \\\\ \\vdots \\\\ cv_n \\end{bmatrix} \\cdot \\vec{w} \n",
    "&= c v_1 w_1 + c v_2 w_2 + \\cdots c v_n w_n \\\\\n",
    "&= c(v_1 w_1 + v_2 w_2 + \\cdots v_n w_n) \\\\\n",
    "&= c(\\vec{v} \\cdot \\vec{w})\n",
    "\\end{split}\\end{equation} \n",
    "$$"
   ]
  },
  {
   "cell_type": "markdown",
   "metadata": {},
   "source": [
    "## Proof of the Cauchy-Schwarz inequality"
   ]
  },
  {
   "cell_type": "markdown",
   "metadata": {},
   "source": [
    "## Vector triangle inequality"
   ]
  },
  {
   "cell_type": "markdown",
   "metadata": {},
   "source": [
    "## Defining the angle between vectors"
   ]
  },
  {
   "cell_type": "markdown",
   "metadata": {},
   "source": [
    "## Defining a plane in R3 with a point and a normal vector"
   ]
  },
  {
   "cell_type": "markdown",
   "metadata": {},
   "source": [
    "## Cross product introduction"
   ]
  },
  {
   "cell_type": "markdown",
   "metadata": {},
   "source": [
    "## Proof: Relationship between cross product and sin of angle"
   ]
  },
  {
   "cell_type": "markdown",
   "metadata": {},
   "source": [
    "## Dot and cross product comparison/intuition"
   ]
  },
  {
   "cell_type": "markdown",
   "metadata": {},
   "source": [
    "## Vector triple product expansion"
   ]
  },
  {
   "cell_type": "markdown",
   "metadata": {},
   "source": [
    "## Normal vector from plane equation"
   ]
  },
  {
   "cell_type": "markdown",
   "metadata": {},
   "source": [
    "## Point distance to plane"
   ]
  },
  {
   "cell_type": "markdown",
   "metadata": {},
   "source": [
    "## Distance between planes"
   ]
  }
 ],
 "metadata": {
  "kernelspec": {
   "display_name": "Python 3",
   "language": "python",
   "name": "python3"
  },
  "language_info": {
   "codemirror_mode": {
    "name": "ipython",
    "version": 3
   },
   "file_extension": ".py",
   "mimetype": "text/x-python",
   "name": "python",
   "nbconvert_exporter": "python",
   "pygments_lexer": "ipython3",
   "version": "3.5.6"
  }
 },
 "nbformat": 4,
 "nbformat_minor": 2
}
