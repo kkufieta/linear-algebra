{
 "cells": [
  {
   "cell_type": "markdown",
   "metadata": {},
   "source": [
    "# Linear combinations and spans"
   ]
  },
  {
   "cell_type": "markdown",
   "metadata": {},
   "source": [
    "## Linear combination\n",
    "\n",
    "Given:\n",
    "$$v_1, v_2, ... v_n \\in \\mathbb{R}^m$$\n",
    "\n",
    "A linear combination of these vectors means you just add up these vectors. It's some combination of a sum of the vectors, but you scale the vectors by arbitrary constants.\n",
    "\n",
    "$$c_1 v_1 + c_2 v_2 + ... + c_n v_n$$ \n",
    "where\n",
    "$$c_1, c_2, ..., c_n \\in \\mathbb{R}$$\n",
    "\n",
    "You could call the constants $c_1, c_2, ...$ weights."
   ]
  },
  {
   "cell_type": "markdown",
   "metadata": {},
   "source": [
    "### Example\n",
    "Given: \n",
    "$$\\vec{a} = \\begin{bmatrix} 1 \\\\ 2 \\end{bmatrix} \\; \\; \\vec{b} = \\begin{bmatrix} 0 \\\\ 3 \\end{bmatrix}$$\n",
    "\n",
    "Linear combinations:\n",
    "\n",
    "$$0 \\cdot \\vec{a} + 0 \\cdot \\vec{b} = \\begin{bmatrix} 0 \\\\ 0 \\end{bmatrix} = \\vec{0}$$\n",
    "\n",
    "$$3 \\cdot \\vec{a} - 2 \\cdot \\vec{b} = \\begin{bmatrix} 3 \\\\ 0 \\end{bmatrix}$$\n",
    "\n",
    "Why don't we just call them combinations? Why is it linear combinations? Because we're just scaling them up. We're not multiplying the vectors times each other. If we were going to multiply vectors, or square vectors, the result would be nonlinear. \n",
    "\n",
    "What is the set of all the vectors that can be created through the linear combinations? \n",
    "\n",
    "You can represent ANY vector in $\\mathbb{R}^2$ with a linear combination of $\\vec{a}$ and $\\vec{b}$.\n",
    "\n",
    "### Another example\n",
    "* Scale $\\vec{a}$ up by some arbitrary value\n",
    "* Add up arbitrary multiples of $\\vec{b}$\n",
    "* We can fill up any point in $\\mathbb{R}^2$ with the combinations of $\\vec{a}$ and $\\vec{b}$\n",
    "\n",
    "So what we can write here is the span of vectors $\\vec{a}$ and $\\vec{b}$ equals $\\mathbb{R}^2$ (or all the vectors in $\\mathbb{R}^2$). \n",
    "\n",
    "$$span(\\vec{a}, \\vec{b}) = \\mathbb{R}^2$$\n",
    "\n",
    "$\\mathbb{R}^2$ is all the tuples made of two ordered tuples of real numbers. This just means that I can represent any vector in $\\mathbb{R}^2$ with some linear combination of $\\vec{a}$ and $\\vec{b}$.\n",
    "\n",
    "Can't I do that with any two vectors? No, take for example:\n",
    "\n",
    "$$\\vec{a} = \\begin{bmatrix} 2 \\\\ 2 \\end{bmatrix} \\; \\; \\vec{b} = \\begin{bmatrix} -2 \\\\ -2 \\end{bmatrix}$$\n",
    "\n",
    "The result of the linear combination of these two vectors will be only a line, not $\\mathbb{R}^2$.\n",
    "\n",
    "$$span(\\vec{0}) = \\vec{0}$$\n",
    "\n",
    "$$span(\\vec{a}) = c\\vec{a}, \\; c \\in \\mathbb{R}$$\n",
    "\n",
    "You have to have two vectors - and they can't be collinear - in order to span all of $\\mathbb{R}^2$.\n",
    "\n",
    "The $\\hat{i}$ and $\\hat{j}$ unit vectors span $\\mathbb{R}^2$. \n",
    "* They are orthogonal\n",
    "* They form a basis for $\\mathbb{R}^2$\n",
    "* We can represent any vector in $\\mathbb{R}^2$ with a linear combination of these two vectors\n",
    "\n",
    "## Span\n",
    "The formal definition of a span is: The set of all of the vectors $c_1 v_1 + c_2 v_2 + ... + c_n v_n$ (it's a set of vectors because we can pick $c_i$ to be any member of the real numbers)\n",
    "\n",
    "$$span(v_1, v_2, ..., v_n) = \\{ c_1 v_1 + c_2 v_2 + ... + c_n v_n | c_i \\in \\mathbb{R} \\; \\; \\forall \\;\\; 1 \\leq i \\leq n \\}$$\n",
    "\n",
    "The set of all of the combinations, scaled up combinations I can get, that's the span of these vectors. You can view it as the space of all of these vectors that can be represented by a combination of these vectors."
   ]
  }
 ],
 "metadata": {
  "kernelspec": {
   "display_name": "Python 3",
   "language": "python",
   "name": "python3"
  },
  "language_info": {
   "codemirror_mode": {
    "name": "ipython",
    "version": 3
   },
   "file_extension": ".py",
   "mimetype": "text/x-python",
   "name": "python",
   "nbconvert_exporter": "python",
   "pygments_lexer": "ipython3",
   "version": "3.5.6"
  }
 },
 "nbformat": 4,
 "nbformat_minor": 2
}
